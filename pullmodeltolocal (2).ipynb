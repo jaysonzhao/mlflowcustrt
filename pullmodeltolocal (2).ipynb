{
 "cells": [
  {
   "cell_type": "code",
   "execution_count": null,
   "id": "316b1c05-3a59-4cc9-878d-9d96bcd2b8df",
   "metadata": {},
   "outputs": [],
   "source": [
    "!pip install torch\n",
    "!pip install transformers==4.34.1\n",
    "!pip install --upgrade mlflow"
   ]
  },
  {
   "cell_type": "code",
   "execution_count": null,
   "id": "b47030e5-e840-4999-aeec-c5d8e253b06d",
   "metadata": {},
   "outputs": [],
   "source": [
    "import torch\n",
    "import os\n",
    "import mlflow\n",
    "from transformers import AutoModelForSequenceClassification, AutoTokenizer, BatchEncoding, PreTrainedTokenizerFast\n",
    "import mlflow.pytorch\n",
    "import numpy as np\n",
    "import logging"
   ]
  },
  {
   "cell_type": "code",
   "execution_count": null,
   "id": "b9207613-a02f-473b-89bc-8e97c866ab29",
   "metadata": {},
   "outputs": [],
   "source": [
    "#open it when mlflow ready\n",
    "#MLFLOW_ROUTE = os.getenv(\"MLFLOW_ROUTE\")\n",
    "#mlflow.set_tracking_uri(MLFLOW_ROUTE)\n",
    "######\n",
    "\n",
    "\n",
    "#open debug to check more info\n",
    "\n",
    "#replace it with env then\n",
    "#MODEL_NAME = 'vectara/hallucination_evaluation_model'\n",
    "#COMPONENT_NAME = 'vecara'\n",
    "MODEL_NAME = 'microsoft/DialoGPT-large'\n",
    "COMPONENT_NAME = 'DialoGPT'\n",
    "\n",
    "logging.getLogger(\"mlflow\").setLevel(logging.DEBUG)\n",
    "\n",
    "mlflow.set_experiment(COMPONENT_NAME)\n",
    "tokenizer = AutoTokenizer.from_pretrained(MODEL_NAME )\n",
    "model = AutoModelForSequenceClassification.from_pretrained(MODEL_NAME)\n",
    "#model.eval()\n",
    "#no need to change to inference mode\n",
    "mlflow.end_run()\n",
    "with mlflow.start_run():\n",
    "    components = {\n",
    "        \"model\": model,\n",
    "        \"tokenizer\": tokenizer,\n",
    "    }\n",
    "    mlflow.transformers.log_model(components, COMPONENT_NAME)"
   ]
  },
  {
   "cell_type": "code",
   "execution_count": null,
   "id": "06fd0cc9-6d80-4706-ae8d-f5948a05d1b5",
   "metadata": {},
   "outputs": [],
   "source": []
  }
 ],
 "metadata": {
  "kernelspec": {
   "display_name": "Python 3",
   "language": "python",
   "name": "python3"
  },
  "language_info": {
   "codemirror_mode": {
    "name": "ipython",
    "version": 3
   },
   "file_extension": ".py",
   "mimetype": "text/x-python",
   "name": "python",
   "nbconvert_exporter": "python",
   "pygments_lexer": "ipython3",
   "version": "3.8.12"
  }
 },
 "nbformat": 4,
 "nbformat_minor": 5
}
